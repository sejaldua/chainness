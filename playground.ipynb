{
 "cells": [
  {
   "cell_type": "code",
   "execution_count": 7,
   "metadata": {},
   "outputs": [],
   "source": [
    "import pandas as pd\n",
    "\n",
    "df1 = pd.read_csv('./data/chainness_point_2021_part1.csv')\n",
    "df2 = pd.read_csv('./data/chainness_point_2021_part2.csv')\n",
    "df3 = pd.read_csv('./data/chainness_point_2021_part2.csv')\n",
    "\n",
    "df = pd.concat([df1, df2, df3], axis=0)\n"
   ]
  },
  {
   "cell_type": "code",
   "execution_count": 11,
   "metadata": {},
   "outputs": [
    {
     "data": {
      "text/plain": [
       "Index(['RestaurantName', 'Cuisine', 'OpenHours', 'State', 'CNTY_GEOID',\n",
       "       'CNTY_NAME', 'UA_GEOID', 'UA_NAME', 'MSA_GEOID', 'MSA_NAME', 'Lon',\n",
       "       'Lat', 'Frequency', 'isChain'],\n",
       "      dtype='object')"
      ]
     },
     "execution_count": 11,
     "metadata": {},
     "output_type": "execute_result"
    }
   ],
   "source": [
    "df.columns"
   ]
  },
  {
   "cell_type": "code",
   "execution_count": 37,
   "metadata": {},
   "outputs": [
    {
     "name": "stderr",
     "output_type": "stream",
     "text": [
      "/var/folders/kn/3gxxlz990_32dc43rfrm6vlm0000gn/T/ipykernel_35813/569593696.py:2: SettingWithCopyWarning:\n",
      "\n",
      "\n",
      "A value is trying to be set on a copy of a slice from a DataFrame.\n",
      "Try using .loc[row_indexer,col_indexer] = value instead\n",
      "\n",
      "See the caveats in the documentation: https://pandas.pydata.org/pandas-docs/stable/user_guide/indexing.html#returning-a-view-versus-a-copy\n",
      "\n"
     ]
    }
   ],
   "source": [
    "df_slice = df[df['CNTY_NAME']=='Multnomah']\n",
    "df_slice['frequency_bins'] = pd.cut(df_slice.Frequency, \n",
    "                                    bins = [0, 2, 5, 10, 100, 500, 2500], labels=False)"
   ]
  },
  {
   "cell_type": "code",
   "execution_count": 64,
   "metadata": {},
   "outputs": [],
   "source": [
    "import plotly.express as px\n",
    "# px.set_mapbox_access_token(open(\".mapbox_token\").read())\n",
    "# df = px.data.carshare()\n",
    "fig = px.scatter_mapbox(df_slice, lat=\"Lat\", lon=\"Lon\", color=\"frequency_bins\", color_continuous_scale=px.colors.sequential.Plotly3, size_max=0.5, zoom=11)\n",
    "fig.update_layout(mapbox_style='open-street-map')\n",
    "fig.write_image('output.png')"
   ]
  },
  {
   "cell_type": "code",
   "execution_count": null,
   "metadata": {},
   "outputs": [],
   "source": []
  }
 ],
 "metadata": {
  "kernelspec": {
   "display_name": "Python 3.8.9 64-bit",
   "language": "python",
   "name": "python3"
  },
  "language_info": {
   "codemirror_mode": {
    "name": "ipython",
    "version": 3
   },
   "file_extension": ".py",
   "mimetype": "text/x-python",
   "name": "python",
   "nbconvert_exporter": "python",
   "pygments_lexer": "ipython3",
   "version": "3.8.9"
  },
  "orig_nbformat": 4,
  "vscode": {
   "interpreter": {
    "hash": "31f2aee4e71d21fbe5cf8b01ff0e069b9275f58929596ceb00d14d90e3e16cd6"
   }
  }
 },
 "nbformat": 4,
 "nbformat_minor": 2
}
